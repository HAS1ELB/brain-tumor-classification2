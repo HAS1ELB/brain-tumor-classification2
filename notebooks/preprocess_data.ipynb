{
 "cells": [
  {
   "cell_type": "code",
   "execution_count": 1,
   "metadata": {},
   "outputs": [],
   "source": [
    "import os\n",
    "import cv2\n",
    "import numpy as np\n",
    "from sklearn.model_selection import train_test_split\n",
    "from sklearn.preprocessing import LabelEncoder"
   ]
  },
  {
   "cell_type": "code",
   "execution_count": 2,
   "metadata": {},
   "outputs": [],
   "source": [
    "def load_images_and_labels(data_dir, img_size=(128, 128)):\n",
    "    \"\"\"\n",
    "    Load images and their corresponding labels from the specified directory.\n",
    "    Args:\n",
    "        data_dir (str): Path to the directory containing subdirectories for each class.\n",
    "        img_size (tuple): Size to resize each image to (width, height).\n",
    "\n",
    "    Returns:\n",
    "        np.array: Array of images.\n",
    "        np.array: Array of labels.\n",
    "    \"\"\"\n",
    "    images, labels = [], []\n",
    "    for label in os.listdir(data_dir):\n",
    "        label_path = os.path.join(data_dir, label)\n",
    "        if os.path.isdir(label_path):\n",
    "            for img_name in os.listdir(label_path):\n",
    "                img_path = os.path.join(label_path, img_name)\n",
    "                try:\n",
    "                    img = cv2.imread(img_path)\n",
    "                    img = cv2.resize(img, img_size)\n",
    "                    images.append(img)\n",
    "                    labels.append(label)\n",
    "                except Exception as e:\n",
    "                    print(f\"Error loading image {img_path}: {e}\")\n",
    "    return np.array(images), np.array(labels)"
   ]
  },
  {
   "cell_type": "code",
   "execution_count": 3,
   "metadata": {},
   "outputs": [],
   "source": [
    "def preprocess_and_save(data_dir, save_path, img_size=(128, 128)):\n",
    "    \"\"\"\n",
    "    Preprocess images and labels, then save them to a compressed .npz file.\n",
    "    Args:\n",
    "        data_dir (str): Path to the directory containing subdirectories for each class.\n",
    "        save_path (str): Path to save the processed data (.npz file).\n",
    "        img_size (tuple): Size to resize each image to (width, height).\n",
    "    \"\"\"\n",
    "    print(f\"Loading data from {data_dir}...\")\n",
    "    X, y = load_images_and_labels(data_dir, img_size)\n",
    "    print(f\"Loaded {len(X)} images.\")\n",
    "\n",
    "    # Normalize images to [0, 1] range\n",
    "    X = X / 255.0\n",
    "\n",
    "    # Encode labels to integers\n",
    "    encoder = LabelEncoder()\n",
    "    y = encoder.fit_transform(y)\n",
    "\n",
    "    # Save the processed data\n",
    "    print(f\"Saving processed data to {save_path}...\")\n",
    "    np.savez(save_path, X=X, y=y, classes=encoder.classes_)\n",
    "    print(f\"Data saved successfully at {save_path}.\")"
   ]
  },
  {
   "cell_type": "code",
   "execution_count": 4,
   "metadata": {},
   "outputs": [
    {
     "name": "stdout",
     "output_type": "stream",
     "text": [
      "Loading data from ../data/raw/Training...\n",
      "Loaded 5712 images.\n",
      "Saving processed data to ../data/processed/training_data.npz...\n",
      "Data saved successfully at ../data/processed/training_data.npz.\n"
     ]
    }
   ],
   "source": [
    "# Paths to training and testing data directories\n",
    "train_data_dir = \"../data/raw/Training\"\n",
    "test_data_dir = \"../data/raw/Testing\"\n",
    "\n",
    "    # Paths to save preprocessed data\n",
    "train_save_path = \"../data/processed/training_data.npz\"\n",
    "test_save_path = \"../data/processed/testing_data.npz\"\n",
    "\n",
    "    # Preprocess and save training data\n",
    "preprocess_and_save(train_data_dir, train_save_path)\n",
    "\n",
    "    "
   ]
  },
  {
   "cell_type": "code",
   "execution_count": 5,
   "metadata": {},
   "outputs": [
    {
     "name": "stdout",
     "output_type": "stream",
     "text": [
      "Loading data from ../data/raw/Testing...\n",
      "Loaded 1311 images.\n",
      "Saving processed data to ../data/processed/testing_data.npz...\n",
      "Data saved successfully at ../data/processed/testing_data.npz.\n"
     ]
    }
   ],
   "source": [
    "# Preprocess and save testing data\n",
    "preprocess_and_save(test_data_dir, test_save_path)"
   ]
  },
  {
   "cell_type": "code",
   "execution_count": 1,
   "metadata": {},
   "outputs": [
    {
     "name": "stdout",
     "output_type": "stream",
     "text": [
      "['X', 'y', 'classes']\n"
     ]
    }
   ],
   "source": [
    "import numpy as np\n",
    "data = np.load('../data/processed/training_data.npz')\n",
    "print(data.files)  # List of arrays stored in the npz file"
   ]
  },
  {
   "cell_type": "code",
   "execution_count": 2,
   "metadata": {},
   "outputs": [
    {
     "name": "stdout",
     "output_type": "stream",
     "text": [
      "['glioma' 'meningioma' 'notumor' 'pituitary']\n"
     ]
    }
   ],
   "source": [
    "print(data['classes'])  # Access specific array by name"
   ]
  },
  {
   "cell_type": "code",
   "execution_count": 3,
   "metadata": {},
   "outputs": [
    {
     "name": "stdout",
     "output_type": "stream",
     "text": [
      "[0 0 0 ... 3 3 3]\n"
     ]
    }
   ],
   "source": [
    "print(data['y'])  # Access specific array by name"
   ]
  },
  {
   "cell_type": "code",
   "execution_count": null,
   "metadata": {},
   "outputs": [
    {
     "name": "stdout",
     "output_type": "stream",
     "text": [
      "[[[0. 0. 0.]\n",
      "  [0. 0. 0.]\n",
      "  [0. 0. 0.]\n",
      "  ...\n",
      "  [0. 0. 0.]\n",
      "  [0. 0. 0.]\n",
      "  [0. 0. 0.]]\n",
      "\n",
      " [[0. 0. 0.]\n",
      "  [0. 0. 0.]\n",
      "  [0. 0. 0.]\n",
      "  ...\n",
      "  [0. 0. 0.]\n",
      "  [0. 0. 0.]\n",
      "  [0. 0. 0.]]\n",
      "\n",
      " [[0. 0. 0.]\n",
      "  [0. 0. 0.]\n",
      "  [0. 0. 0.]\n",
      "  ...\n",
      "  [0. 0. 0.]\n",
      "  [0. 0. 0.]\n",
      "  [0. 0. 0.]]\n",
      "\n",
      " ...\n",
      "\n",
      " [[0. 0. 0.]\n",
      "  [0. 0. 0.]\n",
      "  [0. 0. 0.]\n",
      "  ...\n",
      "  [0. 0. 0.]\n",
      "  [0. 0. 0.]\n",
      "  [0. 0. 0.]]\n",
      "\n",
      " [[0. 0. 0.]\n",
      "  [0. 0. 0.]\n",
      "  [0. 0. 0.]\n",
      "  ...\n",
      "  [0. 0. 0.]\n",
      "  [0. 0. 0.]\n",
      "  [0. 0. 0.]]\n",
      "\n",
      " [[0. 0. 0.]\n",
      "  [0. 0. 0.]\n",
      "  [0. 0. 0.]\n",
      "  ...\n",
      "  [0. 0. 0.]\n",
      "  [0. 0. 0.]\n",
      "  [0. 0. 0.]]]\n"
     ]
    }
   ],
   "source": [
    "print(data['X'])  # Access specific array by name"
   ]
  },
  {
   "cell_type": "code",
   "execution_count": null,
   "metadata": {},
   "outputs": [],
   "source": [
    "import numpy as np\n",
    "import h5py\n",
    "\n",
    "def convert_npz_to_h5(npz_filename, h5_filename):\n",
    "    # Load the .npz file\n",
    "    npz_data = np.load(npz_filename)\n",
    "\n",
    "    # Create a new HDF5 file\n",
    "    with h5py.File(h5_filename, 'w') as h5f:\n",
    "        for name in npz_data.files:\n",
    "            data = npz_data[name]\n",
    "            \n",
    "            # Check if the data is of type string (dtype('<U10') or similar)\n",
    "            if isinstance(data, np.ndarray) and data.dtype.kind in ['U', 'S']:\n",
    "                # Convert string arrays to byte arrays (UTF-8 encoded)\n",
    "                data = data.astype('S')  # Convert to byte strings (S1, S2, etc.)\n",
    "            \n",
    "            # Write the dataset to the HDF5 file\n",
    "            h5f.create_dataset(name, data=data)\n",
    "\n",
    "# Example usage\n",
    "convert_npz_to_h5('../data/processed/training_data.npz', '../data/processed/training_data.h5')\n"
   ]
  },
  {
   "cell_type": "code",
   "execution_count": 17,
   "metadata": {},
   "outputs": [],
   "source": [
    "convert_npz_to_h5('../data/processed/testing_data.npz', '../data/processed/testing_data.h5')"
   ]
  }
 ],
 "metadata": {
  "kernelspec": {
   "display_name": "venv",
   "language": "python",
   "name": "python3"
  },
  "language_info": {
   "codemirror_mode": {
    "name": "ipython",
    "version": 3
   },
   "file_extension": ".py",
   "mimetype": "text/x-python",
   "name": "python",
   "nbconvert_exporter": "python",
   "pygments_lexer": "ipython3",
   "version": "3.12.6"
  }
 },
 "nbformat": 4,
 "nbformat_minor": 2
}
